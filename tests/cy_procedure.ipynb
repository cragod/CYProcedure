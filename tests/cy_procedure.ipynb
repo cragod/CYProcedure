{
 "metadata": {
  "language_info": {
   "codemirror_mode": {
    "name": "ipython",
    "version": 3
   },
   "file_extension": ".py",
   "mimetype": "text/x-python",
   "name": "python",
   "nbconvert_exporter": "python",
   "pygments_lexer": "ipython3",
   "version": 3
  },
  "orig_nbformat": 2
 },
 "nbformat": 4,
 "nbformat_minor": 2,
 "cells": [
  {
   "cell_type": "code",
   "execution_count": null,
   "metadata": {},
   "outputs": [],
   "source": [
    "import cy_procedure.util.logger import *\n",
    "recorder = ProcedureRecorder('f476e8e4-5bc4-4521-ad6d-f73f9364b313', MessageType.WeChatWork)\n",
    "recorder."
   ]
  }
 ]
}