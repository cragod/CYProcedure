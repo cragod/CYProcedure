{
 "metadata": {
  "language_info": {
   "codemirror_mode": {
    "name": "ipython",
    "version": 3
   },
   "file_extension": ".py",
   "mimetype": "text/x-python",
   "name": "python",
   "nbconvert_exporter": "python",
   "pygments_lexer": "ipython3",
   "version": "3.7.5-final"
  },
  "orig_nbformat": 2,
  "kernelspec": {
   "name": "python37564bit8409255418034dfeada81c2f6070bc9d",
   "display_name": "Python 3.7.5 64-bit"
  }
 },
 "nbformat": 4,
 "nbformat_minor": 2,
 "cells": [
  {
   "cell_type": "code",
   "execution_count": 1,
   "metadata": {
    "tags": []
   },
   "outputs": [
    {
     "output_type": "stream",
     "name": "stdout",
     "text": "**BINANCE - BNB/USDT - AIMS**\n\n**日期**: 2020-08-17 \n\n\n"
    }
   ],
   "source": [
    "from cy_procedure.subject.aims import *\n",
    "from cy_data_access.models.config import *\n",
    "from cy_components.utils.notifier import *\n",
    "# connecting\n",
    "connect_db_env(db_name=DB_POSITION)\n",
    "connect_db_env(db_name=DB_CONFIG)\n",
    "\n",
    "# components\n",
    "coin_pair = CoinPair.coin_pair_with('BNB/USDT')\n",
    "time_frame = TimeFrame.Day_1\n",
    "ccxt_exchange_type = CCXTExchangeType(3)\n",
    "provider_exchange_type = ExchangeType(3)\n",
    "wechat_token = \"f476e8e4-5bc4-4521-ad6d-f73f9364b313\"\n",
    "\n",
    "# strategy\n",
    "ma_period = 7\n",
    "signal_scale = 5\n",
    "sell_threshold = 1.08 \n",
    "base_invest_amount = 11\n",
    "\n",
    "# ccxt\n",
    "ccxt_config = CCXTConfiguration.configuration_with(ccxt_exchange_type)\n",
    "if ccxt_config is None:\n",
    "    print(\"ccxt configuration not founded.\")\n",
    "    exit()\n",
    "provider = CCXTProvider(ccxt_config.app_key, ccxt_config.app_secret, provider_exchange_type)\n",
    "\n",
    "# recorder\n",
    "recorder = ProcedureRecorder(wechat_token, MessageType.WeChatWork)\n",
    "\n",
    "amis = BinanceAIMS(coin_pair, time_frame, provider, signal_scale, ma_period, sell_threshold, base_invest_amount, recorder, 0, True)"
   ]
  },
  {
   "cell_type": "code",
   "execution_count": 3,
   "metadata": {
    "tags": []
   },
   "outputs": [
    {
     "output_type": "stream",
     "name": "stdout",
     "text": "FillRecently.finished\n           candle_begin_time     open     high      low    close      volume\n0  2020-07-16 00:00:00+00:00  17.6351  17.7618  16.5473  17.1647  2053439.44\n1  2020-07-17 00:00:00+00:00  17.1647  17.4825  16.9354  17.0676  1854764.10\n2  2020-07-18 00:00:00+00:00  17.0675  17.3247  16.8122  17.1507  1687884.76\n3  2020-07-19 00:00:00+00:00  17.1542  18.0980  16.8900  18.0154  2597680.63\n4  2020-07-20 00:00:00+00:00  18.0166  18.3400  17.2350  17.4645  2487505.49\n5  2020-07-21 00:00:00+00:00  17.4645  17.9799  17.4000  17.7285  2110735.01\n6  2020-07-22 00:00:00+00:00  17.7268  18.1151  17.4500  18.0900  2174379.20\n7  2020-07-23 00:00:00+00:00  18.0950  18.7700  18.0430  18.7500  2393871.45\n8  2020-07-24 00:00:00+00:00  18.7508  19.5500  18.2350  19.1853  2790281.46\n9  2020-07-25 00:00:00+00:00  19.1878  20.0434  19.1451  19.8242  2956369.76\n10 2020-07-26 00:00:00+00:00  19.8196  20.4900  19.2639  19.5557  2857739.16\n11 2020-07-27 00:00:00+00:00  19.5524  20.1999  18.4000  19.7474  3841364.91\n12 2020-07-28 00:00:00+00:00  19.7489  20.6834  19.4281  20.1732  3516712.35\n13 2020-07-29 00:00:00+00:00  20.1692  20.4091  19.7404  19.8990  2219760.20\n14 2020-07-30 00:00:00+00:00  19.8926  20.0995  19.5111  19.9700  2052250.83\n15 2020-07-31 00:00:00+00:00  19.9700  20.8550  19.9102  20.6615  2251101.21\n16 2020-08-01 00:00:00+00:00  20.6637  21.7400  20.5100  21.6168  2657942.85\n17 2020-08-02 00:00:00+00:00  21.6204  22.1832  19.1000  20.9898  3352897.46\n18 2020-08-03 00:00:00+00:00  20.9899  22.5000  20.7000  22.0504  2668345.02\n19 2020-08-04 00:00:00+00:00  22.0622  22.4433  21.4100  22.2818  2393749.74\n20 2020-08-05 00:00:00+00:00  22.2967  23.5400  22.0566  23.2728  3698317.51\n21 2020-08-06 00:00:00+00:00  23.2685  23.3150  22.5000  22.7487  2442941.26\n22 2020-08-07 00:00:00+00:00  22.7488  22.9999  21.4515  22.3323  2770775.51\n23 2020-08-08 00:00:00+00:00  22.3323  22.9241  21.8571  22.9234  2408862.40\n24 2020-08-09 00:00:00+00:00  22.9230  22.9233  22.0462  22.4220  2112178.17\n25 2020-08-10 00:00:00+00:00  22.4224  22.7700  22.0462  22.6369  2108928.42\n26 2020-08-11 00:00:00+00:00  22.6369  22.7306  20.6600  21.2902  3211543.44\n27 2020-08-12 00:00:00+00:00  21.2993  21.9820  20.5710  21.4919  2455644.02\n28 2020-08-13 00:00:00+00:00  21.4919  21.8560  20.6400  21.7667  3079217.71\n29 2020-08-14 00:00:00+00:00  21.7751  23.3019  21.2600  23.1047  3820214.92\n30 2020-08-15 00:00:00+00:00  23.0966  23.7884  22.7000  23.0881  2752160.06\n31 2020-08-16 00:00:00+00:00  23.1045  23.5831  22.7000  23.5548  1975253.87\n[01:56:57] 获取 K 线成功\n\n           candle_begin_time     open     high      low    close      volume  \\\n0  2020-07-16 00:00:00+00:00  17.6351  17.7618  16.5473  17.1647  2053439.44   \n1  2020-07-17 00:00:00+00:00  17.1647  17.4825  16.9354  17.0676  1854764.10   \n2  2020-07-18 00:00:00+00:00  17.0675  17.3247  16.8122  17.1507  1687884.76   \n3  2020-07-19 00:00:00+00:00  17.1542  18.0980  16.8900  18.0154  2597680.63   \n4  2020-07-20 00:00:00+00:00  18.0166  18.3400  17.2350  17.4645  2487505.49   \n5  2020-07-21 00:00:00+00:00  17.4645  17.9799  17.4000  17.7285  2110735.01   \n6  2020-07-22 00:00:00+00:00  17.7268  18.1151  17.4500  18.0900  2174379.20   \n7  2020-07-23 00:00:00+00:00  18.0950  18.7700  18.0430  18.7500  2393871.45   \n8  2020-07-24 00:00:00+00:00  18.7508  19.5500  18.2350  19.1853  2790281.46   \n9  2020-07-25 00:00:00+00:00  19.1878  20.0434  19.1451  19.8242  2956369.76   \n10 2020-07-26 00:00:00+00:00  19.8196  20.4900  19.2639  19.5557  2857739.16   \n11 2020-07-27 00:00:00+00:00  19.5524  20.1999  18.4000  19.7474  3841364.91   \n12 2020-07-28 00:00:00+00:00  19.7489  20.6834  19.4281  20.1732  3516712.35   \n13 2020-07-29 00:00:00+00:00  20.1692  20.4091  19.7404  19.8990  2219760.20   \n14 2020-07-30 00:00:00+00:00  19.8926  20.0995  19.5111  19.9700  2052250.83   \n15 2020-07-31 00:00:00+00:00  19.9700  20.8550  19.9102  20.6615  2251101.21   \n16 2020-08-01 00:00:00+00:00  20.6637  21.7400  20.5100  21.6168  2657942.85   \n17 2020-08-02 00:00:00+00:00  21.6204  22.1832  19.1000  20.9898  3352897.46   \n18 2020-08-03 00:00:00+00:00  20.9899  22.5000  20.7000  22.0504  2668345.02   \n19 2020-08-04 00:00:00+00:00  22.0622  22.4433  21.4100  22.2818  2393749.74   \n20 2020-08-05 00:00:00+00:00  22.2967  23.5400  22.0566  23.2728  3698317.51   \n21 2020-08-06 00:00:00+00:00  23.2685  23.3150  22.5000  22.7487  2442941.26   \n22 2020-08-07 00:00:00+00:00  22.7488  22.9999  21.4515  22.3323  2770775.51   \n23 2020-08-08 00:00:00+00:00  22.3323  22.9241  21.8571  22.9234  2408862.40   \n24 2020-08-09 00:00:00+00:00  22.9230  22.9233  22.0462  22.4220  2112178.17   \n25 2020-08-10 00:00:00+00:00  22.4224  22.7700  22.0462  22.6369  2108928.42   \n26 2020-08-11 00:00:00+00:00  22.6369  22.7306  20.6600  21.2902  3211543.44   \n27 2020-08-12 00:00:00+00:00  21.2993  21.9820  20.5710  21.4919  2455644.02   \n28 2020-08-13 00:00:00+00:00  21.4919  21.8560  20.6400  21.7667  3079217.71   \n29 2020-08-14 00:00:00+00:00  21.7751  23.3019  21.2600  23.1047  3820214.92   \n30 2020-08-15 00:00:00+00:00  23.0966  23.7884  22.7000  23.0881  2752160.06   \n31 2020-08-16 00:00:00+00:00  23.1045  23.5831  22.7000  23.5548  1975253.87   \n\n           ma    signal  \n0         NaN  0.000000  \n1         NaN  0.000000  \n2         NaN  0.000000  \n3         NaN  0.000000  \n4         NaN  0.000000  \n5         NaN  0.000000  \n6         NaN  0.000000  \n7   17.525914  0.000000  \n8   17.752386  0.000000  \n9   18.054914  0.000000  \n10  18.436843  0.000000  \n11  18.656886  0.000000  \n12  18.983014  0.000000  \n13  19.332257  0.000000  \n14  19.590686  0.000000  \n15  19.764971  0.000000  \n16  19.975857  0.000000  \n17  20.231943  0.000000  \n18  20.436814  0.000000  \n19  20.765814  0.000000  \n20  21.067043  0.000000  \n21  21.549014  0.000000  \n22  21.945971  0.000000  \n23  22.184657  0.000000  \n24  22.371314  0.000000  \n25  22.575914  1.034000  \n26  22.659700  1.005031  \n27  22.518043  1.270615  \n28  22.263629  1.173316  \n29  22.123343  1.078705  \n30  22.233686  0.000000  \n31  22.257214  0.000000  \n**信号**: 卖出 \n\n\n**下单数量**: 0.45998387 BNB\n\n\n[01:57:00] **[Place Order]** \n\n**Exchange**: Binance \n\n**Coin Pair**: BNB/USDT \n\n**Information**: {'info': {'symbol': 'BNBUSDT', 'orderId': 701345203, 'orderListId': -1, 'clientOrderId': 'wc8LyK7ZkXqVD4Ps5FqucE', 'transactTime': 1597600619983, 'price': '23.31530000', 'origQty': '0.45000000', 'executedQty': '0.45000000', 'cummulativeQuoteQty': '10.59826500', 'status': 'FILLED', 'timeInForce': 'GTC', 'type': 'LIMIT', 'side': 'SELL'}, 'id': '701345203', 'clientOrderId': 'wc8LyK7ZkXqVD4Ps5FqucE', 'timestamp': 1597600619983, 'datetime': '2020-08-16T17:56:59.983Z', 'lastTradeTimestamp': None, 'symbol': 'BNB/USDT', 'type': 'limit', 'side': 'sell', 'price': 23.3153, 'amount': 0.45, 'cost': 10.598265, 'average': 23.5517, 'filled': 0.45, 'remaining': 0.0, 'status': 'closed', 'fee': None, 'trades': None}\n\n[01:57:00] **[Track Order]** \n\n**Exchange**: Binance \n\n**Coin Pair**: BNB/USDT \n\n**Information**: {'info': {'symbol': 'BNBUSDT', 'orderId': 701345203, 'orderListId': -1, 'clientOrderId': 'wc8LyK7ZkXqVD4Ps5FqucE', 'transactTime': 1597600619983, 'price': '23.31530000', 'origQty': '0.45000000', 'executedQty': '0.45000000', 'cummulativeQuoteQty': '10.59826500', 'status': 'FILLED', 'timeInForce': 'GTC', 'type': 'LIMIT', 'side': 'SELL'}, 'id': '701345203', 'clientOrderId': 'wc8LyK7ZkXqVD4Ps5FqucE', 'timestamp': 1597600619983, 'datetime': '2020-08-16T17:56:59.983Z', 'lastTradeTimestamp': None, 'symbol': 'BNB/USDT', 'type': 'limit', 'side': 'sell', 'price': 23.3153, 'amount': 0.45, 'cost': 10.598265, 'average': 23.5517, 'filled': 0.45, 'remaining': 0.0, 'status': 'closed', 'fee': None, 'trades': None}\n\n[01:57:00] **[Remaining Amount [SELL]]** \n\n**Exchange**: Binance \n\n**Coin Pair**: BNB/USDT \n\n**Information**: 0.0\n\n**成交价格**: 23.5517 \n\n**成交总价**: 10.598265 USDT\n\n**成交数量**: 0.45 BNB\n\n**仓位成本**: 10.842798 USDT\n\n\n"
    }
   ],
   "source": [
    "amis.run_task()"
   ]
  },
  {
   "cell_type": "code",
   "execution_count": 2,
   "metadata": {
    "tags": []
   },
   "outputs": [
    {
     "output_type": "stream",
     "name": "stdout",
     "text": "**信号**: 买入(1) \n\n\n**下单数量**: 11 USDT\n\n\n[01:56:28] **[Order Check]** \n\n**Exchange**: Binance \n\n**Coin Pair**: BNB/USDT \n\n**Information**: to_cost: 11 minimum_cost: 10.0 retry_times: 0\n\n[01:56:29] **[Place Order]** \n\n**Exchange**: Binance \n\n**Coin Pair**: BNB/USDT \n\n**Information**: {'info': {'symbol': 'BNBUSDT', 'orderId': 701344691, 'orderListId': -1, 'clientOrderId': 'symk9aJImsz5pIFzQ2e4ZD', 'transactTime': 1597600589425, 'price': '23.80700000', 'origQty': '0.46000000', 'executedQty': '0.46000000', 'cummulativeQuoteQty': '10.84279800', 'status': 'FILLED', 'timeInForce': 'GTC', 'type': 'LIMIT', 'side': 'BUY'}, 'id': '701344691', 'clientOrderId': 'symk9aJImsz5pIFzQ2e4ZD', 'timestamp': 1597600589425, 'datetime': '2020-08-16T17:56:29.425Z', 'lastTradeTimestamp': None, 'symbol': 'BNB/USDT', 'type': 'limit', 'side': 'buy', 'price': 23.807, 'amount': 0.46, 'cost': 10.842798, 'average': 23.5713, 'filled': 0.46, 'remaining': 0.0, 'status': 'closed', 'fee': None, 'trades': None}\n\n[01:56:29] **[Track Order[Finished]]** \n\n**Exchange**: Binance \n\n**Coin Pair**: BNB/USDT \n\n**Information**: {'info': {'symbol': 'BNBUSDT', 'orderId': 701344691, 'orderListId': -1, 'clientOrderId': 'symk9aJImsz5pIFzQ2e4ZD', 'transactTime': 1597600589425, 'price': '23.80700000', 'origQty': '0.46000000', 'executedQty': '0.46000000', 'cummulativeQuoteQty': '10.84279800', 'status': 'FILLED', 'timeInForce': 'GTC', 'type': 'LIMIT', 'side': 'BUY'}, 'id': '701344691', 'clientOrderId': 'symk9aJImsz5pIFzQ2e4ZD', 'timestamp': 1597600589425, 'datetime': '2020-08-16T17:56:29.425Z', 'lastTradeTimestamp': None, 'symbol': 'BNB/USDT', 'type': 'limit', 'side': 'buy', 'price': 23.807, 'amount': 0.46, 'cost': 10.842798, 'average': 23.5713, 'filled': 0.46, 'remaining': 0.0, 'status': 'closed', 'fee': None, 'trades': None}\n\n[01:56:29] **[Remaining Amount [BUY]]** \n\n**Exchange**: Binance \n\n**Coin Pair**: BNB/USDT \n\n**Information**: 0.15720199999999984\n\n**成交价格**: 23.5713 \n\n**成交总价**: 10.842798 USDT\n\n**成交数量**: 0.46 BNB\n\n\n**持仓数量**: 0.46 BNB \n\n**仓位成本**: 10.842798 USDT \n\n**仓位均价**: 23.5713\n\n\n"
    }
   ],
   "source": [
    "amis.handle_signal(1)"
   ]
  },
  {
   "cell_type": "code",
   "execution_count": 3,
   "metadata": {
    "tags": []
   },
   "outputs": [
    {
     "output_type": "stream",
     "name": "stdout",
     "text": "**信号**: 无 \n\n\n**持仓数量**: 0.92 BNB \n\n**仓位成本**: 21.512084 USDT \n\n**仓位均价**: 23.3827 \n\n**P/L**: 98.81%\n\n\n"
    }
   ],
   "source": [
    "\n",
    "amis.handle_signal(0)"
   ]
  },
  {
   "cell_type": "code",
   "execution_count": null,
   "metadata": {},
   "outputs": [],
   "source": []
  },
  {
   "cell_type": "code",
   "execution_count": null,
   "metadata": {},
   "outputs": [],
   "source": [
    "import math\n",
    "math.floor(0.47 * (1 - 0) * 1e8) / 1e8 \n",
    "math.floor(0.47 * (1 - 0) * 1e8) / 1e8 "
   ]
  },
  {
   "cell_type": "code",
   "execution_count": null,
   "metadata": {},
   "outputs": [],
   "source": []
  }
 ]
}