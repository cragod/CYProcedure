{
 "metadata": {
  "language_info": {
   "codemirror_mode": {
    "name": "ipython",
    "version": 3
   },
   "file_extension": ".py",
   "mimetype": "text/x-python",
   "name": "python",
   "nbconvert_exporter": "python",
   "pygments_lexer": "ipython3",
   "version": "3.7.5-final"
  },
  "orig_nbformat": 2,
  "kernelspec": {
   "name": "python37564bit8409255418034dfeada81c2f6070bc9d",
   "display_name": "Python 3.7.5 64-bit"
  }
 },
 "nbformat": 4,
 "nbformat_minor": 2,
 "cells": [
  {
   "cell_type": "code",
   "execution_count": 1,
   "metadata": {
    "tags": []
   },
   "outputs": [
    {
     "output_type": "stream",
     "name": "stdout",
     "text": "**BINANCE - BNB/USDT - AIMS**\n\n**日期**: 2020-08-16 \n\n\n"
    }
   ],
   "source": [
    "from cy_procedure.subject.aims import *\n",
    "from cy_data_access.models.config import *\n",
    "from cy_components.utils.notifier import *\n",
    "# connecting\n",
    "connect_db_env(db_name=DB_POSITION)\n",
    "connect_db_env(db_name=DB_CONFIG)\n",
    "\n",
    "# components\n",
    "coin_pair = CoinPair.coin_pair_with('BNB/USDT')\n",
    "time_frame = TimeFrame.Day_1\n",
    "ccxt_exchange_type = CCXTExchangeType(3)\n",
    "provider_exchange_type = ExchangeType(3)\n",
    "wechat_token = \"d5fe7f9b6819cd885a9b09b98bfb82f52de16231d618ea5440c65eada1caa81c\"\n",
    "\n",
    "# strategy\n",
    "ma_period = 7\n",
    "signal_scale = 5\n",
    "base_invest_amount = 40\n",
    "\n",
    "# ccxt\n",
    "ccxt_config = CCXTConfiguration.configuration_with(ccxt_exchange_type)\n",
    "if ccxt_config is None:\n",
    "    print(\"ccxt configuration not founded.\")\n",
    "    exit()\n",
    "provider = CCXTProvider(ccxt_config.app_key, ccxt_config.app_secret, provider_exchange_type)\n",
    "\n",
    "# recorder\n",
    "recorder = ProcedureRecorder(wechat_token, MessageType.WeChatWork)\n",
    "\n",
    "amis = BinanceAIMS(coin_pair, time_frame, provider, signal_scale, ma_period, base_invest_amount, recorder, 0, True)"
   ]
  },
  {
   "cell_type": "code",
   "execution_count": 3,
   "metadata": {
    "tags": []
   },
   "outputs": [
    {
     "output_type": "stream",
     "name": "stdout",
     "text": "**下单数量**: 11 USDT\n\n\n[23:17:48] **[Order Check]** \n\n**Exchange**: Binance \n\n**Coin Pair**: BNB/USDT \n\n**Information**: to_cost: 11 minimum_cost: 10.0 retry_times: 0\n\n[23:17:50] **[Place Order]** \n\n**Exchange**: Binance \n\n**Coin Pair**: BNB/USDT \n\n**Information**: {'info': {'symbol': 'BNBUSDT', 'orderId': 701084546, 'orderListId': -1, 'clientOrderId': 'NlthbEUXcI8Bi8vEqvEIBp', 'transactTime': 1597591070172, 'price': '23.41210000', 'origQty': '0.46000000', 'executedQty': '0.46000000', 'cummulativeQuoteQty': '10.66289200', 'status': 'FILLED', 'timeInForce': 'GTC', 'type': 'LIMIT', 'side': 'BUY'}, 'id': '701084546', 'clientOrderId': 'NlthbEUXcI8Bi8vEqvEIBp', 'timestamp': 1597591070172, 'datetime': '2020-08-16T15:17:50.172Z', 'lastTradeTimestamp': None, 'symbol': 'BNB/USDT', 'type': 'limit', 'side': 'buy', 'price': 23.4121, 'amount': 0.46, 'cost': 10.662892, 'average': 23.1802, 'filled': 0.46, 'remaining': 0.0, 'status': 'closed', 'fee': None, 'trades': None}\n\n[23:17:50] **[Track Order[Finished]]** \n\n**Exchange**: Binance \n\n**Coin Pair**: BNB/USDT \n\n**Information**: {'info': {'symbol': 'BNBUSDT', 'orderId': 701084546, 'orderListId': -1, 'clientOrderId': 'NlthbEUXcI8Bi8vEqvEIBp', 'transactTime': 1597591070172, 'price': '23.41210000', 'origQty': '0.46000000', 'executedQty': '0.46000000', 'cummulativeQuoteQty': '10.66289200', 'status': 'FILLED', 'timeInForce': 'GTC', 'type': 'LIMIT', 'side': 'BUY'}, 'id': '701084546', 'clientOrderId': 'NlthbEUXcI8Bi8vEqvEIBp', 'timestamp': 1597591070172, 'datetime': '2020-08-16T15:17:50.172Z', 'lastTradeTimestamp': None, 'symbol': 'BNB/USDT', 'type': 'limit', 'side': 'buy', 'price': 23.4121, 'amount': 0.46, 'cost': 10.662892, 'average': 23.1802, 'filled': 0.46, 'remaining': 0.0, 'status': 'closed', 'fee': None, 'trades': None}\n\n[23:17:50] **[Remaining Amount [BUY]]** \n\n**Exchange**: Binance \n\n**Coin Pair**: BNB/USDT \n\n**Information**: 0.33710800000000063\n\n**下单价格**: 23.1802 \n\n**下单总价**: 10.662892 USDT\n\n**买入数量**: 0.46 BNB\n\n\n\n"
    }
   ],
   "source": [
    "amis.handle_buying(11)"
   ]
  },
  {
   "cell_type": "code",
   "execution_count": null,
   "metadata": {},
   "outputs": [],
   "source": []
  },
  {
   "cell_type": "code",
   "execution_count": 4,
   "metadata": {},
   "outputs": [
    {
     "output_type": "execute_result",
     "data": {
      "text/plain": "0.47"
     },
     "metadata": {},
     "execution_count": 4
    }
   ],
   "source": [
    "import math\n",
    "math.floor(0.47 * (1 - 0) * 1e8) / 1e8 \n",
    "math.floor(0.47 * (1 - 0) * 1e8) / 1e8 "
   ]
  },
  {
   "cell_type": "code",
   "execution_count": null,
   "metadata": {},
   "outputs": [],
   "source": []
  }
 ]
}